{
 "cells": [
  {
   "cell_type": "markdown",
   "metadata": {},
   "source": [
    "# import libraries \n"
   ]
  },
  {
   "cell_type": "code",
   "execution_count": 2,
   "metadata": {},
   "outputs": [],
   "source": [
    "import pandas as pd \n",
    "import seaborn as sns \n",
    "import matplotlib.pyplot as plt\n",
    "from sklearn.preprocessing import StandardScaler\n",
    "from sklearn.model_selection import train_test_split  \n",
    "from sklearn.linear_model import LinearRegression \n",
    "from sklearn.metrics import r2_score , mean_squared_error\n",
    "import numpy as np \n",
    "from sklearn.model_selection import GridSearchCV\n",
    "from sklearn.ensemble import RandomForestRegressor\n"
   ]
  },
  {
   "cell_type": "markdown",
   "metadata": {},
   "source": [
    "# Load the dataset "
   ]
  },
  {
   "cell_type": "code",
   "execution_count": 3,
   "metadata": {},
   "outputs": [],
   "source": [
    "df = pd.read_csv(\"Gold Price (2013-2023).csv\") "
   ]
  },
  {
   "cell_type": "markdown",
   "metadata": {},
   "source": [
    "# Clean numerical columns by removing commas and converting to float\n"
   ]
  },
  {
   "cell_type": "code",
   "execution_count": 4,
   "metadata": {},
   "outputs": [],
   "source": [
    "columns = [\"Price\", \"Open\", \"High\", \"Low\"]\n",
    "for col in columns:\n",
    "    df[col] = df[col].replace({\",\": \"\"}, regex=True)\n",
    "    df[col] = df[col].astype(\"float64\")"
   ]
  },
  {
   "cell_type": "markdown",
   "metadata": {},
   "source": [
    "# Convert Date format"
   ]
  },
  {
   "cell_type": "code",
   "execution_count": 5,
   "metadata": {},
   "outputs": [],
   "source": [
    "df['Date'] = pd.to_datetime(df['Date'])\n",
    "df.sort_values(by=\"Date\", ascending=True, inplace=True)\n",
    "df.reset_index(drop=True, inplace=True)\n",
    "df[\"date_year\"] = df[\"Date\"].dt.year\n",
    "df[\"date_month\"] = df[\"Date\"].dt.month\n",
    "df[\"date_day\"] = df[\"Date\"].dt.day"
   ]
  },
  {
   "cell_type": "markdown",
   "metadata": {},
   "source": [
    "# Replace 'K' with '000' and convert 'Vol.' to float "
   ]
  },
  {
   "cell_type": "code",
   "execution_count": 6,
   "metadata": {},
   "outputs": [],
   "source": [
    "df['Vol.'] = df['Vol.'].str.replace(\"K\", \"000\", regex=True)\n",
    "df['Vol.'] = df['Vol.'].astype(\"float64\")\n",
    "\n",
    "\n",
    "# Remove '%' sign from 'Change %' and convert to float\n",
    "\n",
    "df['Change %'] = df['Change %'].str.replace(\"%\", \"\", regex=True)\n",
    "df['Change %'] = df['Change %'].astype(\"float64\")\n"
   ]
  },
  {
   "cell_type": "code",
   "execution_count": 7,
   "metadata": {},
   "outputs": [
    {
     "name": "stdout",
     "output_type": "stream",
     "text": [
      "        Date   Price    Open    High     Low  Vol.  Change %  date_year  \\\n",
      "0 2013-01-03  1675.6  1688.0  1689.3  1664.3  0.19     -0.85       2013   \n",
      "1 2013-01-04  1649.9  1664.4  1664.4  1630.0  0.31     -1.53       2013   \n",
      "2 2013-01-08  1663.2  1651.5  1662.6  1648.8  0.13      0.97       2013   \n",
      "3 2013-01-09  1656.5  1660.7  1664.2  1652.3  0.16     -0.40       2013   \n",
      "4 2013-01-10  1679.0  1656.7  1679.2  1656.7  0.14      1.36       2013   \n",
      "\n",
      "   date_month  date_day  Yesterday_Open  Yesterday_High  Yesterday_Low  \\\n",
      "0           1         3          1675.8          1695.0         1672.1   \n",
      "1           1         4          1688.0          1689.3         1664.3   \n",
      "2           1         8          1657.3          1663.8         1645.3   \n",
      "3           1         9          1651.5          1662.6         1648.8   \n",
      "4           1        10          1660.7          1664.2         1652.3   \n",
      "\n",
      "   Yesterday_Vol.  Yesterday_Change %  \n",
      "0            0.06                0.78  \n",
      "1            0.19               -0.85  \n",
      "2            0.09               -0.16  \n",
      "3            0.13                0.97  \n",
      "4            0.16               -0.40  \n"
     ]
    }
   ],
   "source": [
    "# Assuming 'df' is your DataFrame and it's already loaded and preprocessed\n",
    "\n",
    "cols_to_shift = [\"Open\", \"High\", \"Low\", 'Vol.', \"Change %\"]\n",
    "df_shifted = df[['Date']].copy()\n",
    "\n",
    "for col in cols_to_shift:\n",
    "    df[f'Yesterday_{col}'] = df[col].shift(1)\n",
    "\n",
    "df = df.merge(df_shifted, on='Date', how='left')\n",
    "\n",
    "# Remove rows where the previous day's date does not match\n",
    "df['Yesterday_Date'] = df['Date'].shift(1)\n",
    "df = df[df['Date'] - pd.Timedelta(days=1) == df['Yesterday_Date']]\n",
    "\n",
    "# Drop the temporary 'Yesterday_Date' column\n",
    "df = df.drop(columns=['Yesterday_Date'])\n",
    "\n",
    "# Drop the first row with NaN values due to shifting\n",
    "df = df.dropna().reset_index(drop=True)\n",
    "\n",
    "# Display the first few rows to verify the new columns\n",
    "print(df.head())\n"
   ]
  },
  {
   "cell_type": "markdown",
   "metadata": {},
   "source": [
    "# Clean numerical columns by removing commas and converting to float\n",
    "  "
   ]
  },
  {
   "cell_type": "code",
   "execution_count": 8,
   "metadata": {},
   "outputs": [
    {
     "name": "stdout",
     "output_type": "stream",
     "text": [
      "<class 'pandas.core.frame.DataFrame'>\n",
      "RangeIndex: 2047 entries, 0 to 2046\n",
      "Data columns (total 15 columns):\n",
      " #   Column              Non-Null Count  Dtype         \n",
      "---  ------              --------------  -----         \n",
      " 0   Date                2047 non-null   datetime64[ns]\n",
      " 1   Price               2047 non-null   float64       \n",
      " 2   Open                2047 non-null   float64       \n",
      " 3   High                2047 non-null   float64       \n",
      " 4   Low                 2047 non-null   float64       \n",
      " 5   Vol.                2047 non-null   float64       \n",
      " 6   Change %            2047 non-null   float64       \n",
      " 7   date_year           2047 non-null   int32         \n",
      " 8   date_month          2047 non-null   int32         \n",
      " 9   date_day            2047 non-null   int32         \n",
      " 10  Yesterday_Open      2047 non-null   float64       \n",
      " 11  Yesterday_High      2047 non-null   float64       \n",
      " 12  Yesterday_Low       2047 non-null   float64       \n",
      " 13  Yesterday_Vol.      2047 non-null   float64       \n",
      " 14  Yesterday_Change %  2047 non-null   float64       \n",
      "dtypes: datetime64[ns](1), float64(11), int32(3)\n",
      "memory usage: 216.0 KB\n",
      "None\n",
      "Date                  0\n",
      "Price                 0\n",
      "Open                  0\n",
      "High                  0\n",
      "Low                   0\n",
      "Vol.                  0\n",
      "Change %              0\n",
      "date_year             0\n",
      "date_month            0\n",
      "date_day              0\n",
      "Yesterday_Open        0\n",
      "Yesterday_High        0\n",
      "Yesterday_Low         0\n",
      "Yesterday_Vol.        0\n",
      "Yesterday_Change %    0\n",
      "dtype: int64\n"
     ]
    }
   ],
   "source": [
    "columns = [\"Yesterday_Open\", \"Yesterday_High\", \"Yesterday_Low\", \"Yesterday_Vol.\", \"Yesterday_Change %\"]\n",
    "\n",
    "for i in columns :\n",
    "    df[i]=df[i].replace({\",\":\"\"},regex=True)\n",
    "    df[i]=df[i].astype(\"float64\")\n",
    "print(df.info())\n",
    "\n",
    "print(df.isna().sum())  "
   ]
  },
  {
   "cell_type": "markdown",
   "metadata": {},
   "source": [
    "# removing outliers "
   ]
  },
  {
   "cell_type": "code",
   "execution_count": 9,
   "metadata": {},
   "outputs": [
    {
     "name": "stdout",
     "output_type": "stream",
     "text": [
      "0\n",
      "0\n",
      "0\n",
      "18\n",
      "120\n"
     ]
    }
   ],
   "source": [
    "yesterday_columns = [\"Yesterday_Open\", \"Yesterday_High\", \"Yesterday_Low\", \"Yesterday_Vol.\", \"Yesterday_Change %\"]\n",
    "\n",
    "for i in columns :\n",
    "    Q1= df[i].quantile(0.25)\n",
    "    Q3=df[i].quantile(0.75)\n",
    "    IQR= Q3-Q1\n",
    "    lower_bound= Q1 - 1.5 * IQR\n",
    "    upper_bound= Q3 + 1.5 * IQR \n",
    "    print(len(df[(df[i] > upper_bound) | (df[i] < lower_bound)]))\n",
    "    df = df[(df[i]>= lower_bound) & (df[i]<= upper_bound)]"
   ]
  },
  {
   "cell_type": "markdown",
   "metadata": {},
   "source": [
    "# Spliting x and y"
   ]
  },
  {
   "cell_type": "code",
   "execution_count": 10,
   "metadata": {},
   "outputs": [
    {
     "name": "stdout",
     "output_type": "stream",
     "text": [
      "   date_year  date_month  date_day  Yesterday_Open  Yesterday_High  \\\n",
      "0       2013           1         3          1675.8          1695.0   \n",
      "1       2013           1         4          1688.0          1689.3   \n",
      "2       2013           1         8          1657.3          1663.8   \n",
      "3       2013           1         9          1651.5          1662.6   \n",
      "4       2013           1        10          1660.7          1664.2   \n",
      "\n",
      "   Yesterday_Low  Yesterday_Vol.  Yesterday_Change %  \n",
      "0         1672.1            0.06                0.78  \n",
      "1         1664.3            0.19               -0.85  \n",
      "2         1645.3            0.09               -0.16  \n",
      "3         1648.8            0.13                0.97  \n",
      "4         1652.3            0.16               -0.40  \n",
      "0    1675.6\n",
      "1    1649.9\n",
      "2    1663.2\n",
      "3    1656.5\n",
      "4    1679.0\n",
      "Name: Price, dtype: float64\n"
     ]
    }
   ],
   "source": [
    "col = df.columns.drop(['Price', 'Date',\"Open\", \"High\", \"Low\", 'Vol.', \"Change %\"])\n",
    "x=df[col]\n",
    "y=df[\"Price\"]\n",
    "print(x.head())\n",
    "print(y.head())"
   ]
  },
  {
   "cell_type": "markdown",
   "metadata": {},
   "source": [
    "# Training the model Stage"
   ]
  },
  {
   "cell_type": "code",
   "execution_count": 11,
   "metadata": {},
   "outputs": [
    {
     "name": "stdout",
     "output_type": "stream",
     "text": [
      "(1336, 8)\n",
      "(1336,)\n",
      "(573, 8)\n",
      "(573,)\n"
     ]
    }
   ],
   "source": [
    "x_train,x_test,y_train,y_test = train_test_split(x,y,random_state=1,test_size=0.30)\n",
    "print(x_train.shape)\n",
    "print(y_train.shape)\n",
    "print(x_test.shape)\n",
    "print(y_test.shape)\n",
    "\n",
    "# modeling \n",
    "\n",
    "linreg= LinearRegression()\n",
    "\n",
    "linreg.fit(x_train,y_train)\n",
    "\n",
    "y_pridict= linreg.predict(x_test)\n",
    "\n",
    "\n"
   ]
  },
  {
   "cell_type": "markdown",
   "metadata": {},
   "source": [
    "# Visualization "
   ]
  },
  {
   "cell_type": "code",
   "execution_count": 12,
   "metadata": {},
   "outputs": [
    {
     "data": {
      "image/png": "[encoded data removed]",
      "text/plain": [
       "<Figure size 640x480 with 1 Axes>"
      ]
     },
     "metadata": {},
     "output_type": "display_data"
    }
   ],
   "source": [
    "# Plot predictions vs actual values\n",
    "plt.scatter(y_test,y_pridict)\n",
    "plt.plot(y_test, y_test, color='red')\n",
    "plt.xlabel(\"Actual\")\n",
    "plt.ylabel(\"Predicted\")\n",
    "plt.show()\n",
    "\n"
   ]
  },
  {
   "cell_type": "markdown",
   "metadata": {},
   "source": [
    "# Evaluation Stage "
   ]
  },
  {
   "cell_type": "code",
   "execution_count": 13,
   "metadata": {},
   "outputs": [
    {
     "name": "stdout",
     "output_type": "stream",
     "text": [
      "R^2 Score: 0.9967373592810098\n",
      "Mean Squared Error:  221.26137471221054\n",
      "Root Mean Squared Error:  14.874857132497459\n"
     ]
    }
   ],
   "source": [
    "# Calculate R² score\n",
    "r2 = r2_score(y_test,y_pridict)\n",
    "print(f'R^2 Score: {r2}')\n",
    "\n",
    "print(\"Mean Squared Error: \", mean_squared_error(y_test, y_pridict))\n",
    "print(\"Root Mean Squared Error: \", np.sqrt(mean_squared_error(y_test, y_pridict)))\n",
    "\n"
   ]
  },
  {
   "cell_type": "markdown",
   "metadata": {},
   "source": [
    "# RandomForest using GridSearch"
   ]
  },
  {
   "cell_type": "code",
   "execution_count": 14,
   "metadata": {},
   "outputs": [
    {
     "name": "stdout",
     "output_type": "stream",
     "text": [
      "Best parameters: {'max_depth': 10, 'min_samples_leaf': 4, 'min_samples_split': 2, 'n_estimators': 300}\n",
      "Best Score: 0.9965137992876386\n"
     ]
    }
   ],
   "source": [
    "rand= RandomForestRegressor()\n",
    "\n",
    "param_grid={\n",
    "    \"n_estimators\": [100,200,300],\n",
    "    \"max_depth\": [None,10,20,30],\n",
    "    'min_samples_split': [2, 5, 10],\n",
    "    'min_samples_leaf': [1, 2, 4]\n",
    "    \n",
    "}\n",
    "\n",
    "GS=GridSearchCV(estimator=rand, param_grid=param_grid, scoring='r2',verbose=0,n_jobs=-1)\n",
    "GS.fit(x_train,y_train)\n",
    "\n",
    "# printing the best parameter and score for the model \n",
    "print(\"Best parameters:\", GS.best_params_)\n",
    "best_rf = GS.best_estimator_\n",
    "\n",
    "print(\"Best Score:\", GS.best_score_)"
   ]
  }
 ],
 "metadata": {
  "kernelspec": {
   "display_name": "Python 3",
   "language": "python",
   "name": "python3"
  },
  "language_info": {
   "codemirror_mode": {
    "name": "ipython",
    "version": 3
   },
   "file_extension": ".py",
   "mimetype": "text/x-python",
   "name": "python",
   "nbconvert_exporter": "python",
   "pygments_lexer": "ipython3",
   "version": "3.12.4"
  }
 },
 "nbformat": 4,
 "nbformat_minor": 2
}
